{
 "cells": [
  {
   "cell_type": "code",
   "execution_count": 1,
   "metadata": {},
   "outputs": [],
   "source": [
    "import pandas as pd\n",
    "import numpy as np\n",
    "from bs4 import BeautifulSoup\n",
    "import requests"
   ]
  },
  {
   "cell_type": "code",
   "execution_count": 2,
   "metadata": {},
   "outputs": [],
   "source": [
    "from scrap import Script"
   ]
  },
  {
   "cell_type": "markdown",
   "metadata": {},
   "source": [
    "## Here I will extract the Perfume "
   ]
  },
  {
   "cell_type": "code",
   "execution_count": 3,
   "metadata": {},
   "outputs": [],
   "source": [
    "data = Script()"
   ]
  },
  {
   "cell_type": "code",
   "execution_count": 4,
   "metadata": {},
   "outputs": [],
   "source": [
    "## Grab the fie of xlsx\n",
    "url_excel = 'MAYOR-160.xlsx'\n",
    "df_excel = data.link_excel(url_excel)"
   ]
  },
  {
   "cell_type": "code",
   "execution_count": 5,
   "metadata": {},
   "outputs": [],
   "source": [
    "data_perfume = {\n",
    "    'Image': [],\n",
    "    'Description': [],\n",
    "    '1er Acorde': [],\n",
    "    '2do Acorde': [],\n",
    "    '3er Acorde': []\n",
    "}"
   ]
  },
  {
   "cell_type": "code",
   "execution_count": 6,
   "metadata": {},
   "outputs": [],
   "source": [
    "#### DataFrame:\n",
    "columns = ['Image', 'Description', '1er Acorde', '2do Acorde', '3er Acorde']\n",
    "# df = pd.DataFrame(columns=columns)\n",
    "df = pd.DataFrame()"
   ]
  },
  {
   "cell_type": "code",
   "execution_count": 7,
   "metadata": {},
   "outputs": [
    {
     "name": "stdout",
     "output_type": "stream",
     "text": [
      "Response: 200\n"
     ]
    },
    {
     "data": {
      "text/html": [
       "<div>\n",
       "<style scoped>\n",
       "    .dataframe tbody tr th:only-of-type {\n",
       "        vertical-align: middle;\n",
       "    }\n",
       "\n",
       "    .dataframe tbody tr th {\n",
       "        vertical-align: top;\n",
       "    }\n",
       "\n",
       "    .dataframe thead th {\n",
       "        text-align: right;\n",
       "    }\n",
       "</style>\n",
       "<table border=\"1\" class=\"dataframe\">\n",
       "  <thead>\n",
       "    <tr style=\"text-align: right;\">\n",
       "      <th></th>\n",
       "      <th>Image</th>\n",
       "      <th>Description</th>\n",
       "      <th>1er Acorde</th>\n",
       "      <th>2do Acorde</th>\n",
       "      <th>3er Acorde</th>\n",
       "    </tr>\n",
       "  </thead>\n",
       "  <tbody>\n",
       "    <tr>\n",
       "      <th>0</th>\n",
       "      <td>https://fimgs.net/mdimg/perfume/375x500.54004.jpg</td>\n",
       "      <td>Authentic Man by Abercrombie &amp; Fitch is a Citr...</td>\n",
       "      <td>citrus</td>\n",
       "      <td>woody</td>\n",
       "      <td>aromatic</td>\n",
       "    </tr>\n",
       "  </tbody>\n",
       "</table>\n",
       "</div>"
      ],
      "text/plain": [
       "                                               Image  \\\n",
       "0  https://fimgs.net/mdimg/perfume/375x500.54004.jpg   \n",
       "\n",
       "                                         Description 1er Acorde 2do Acorde  \\\n",
       "0  Authentic Man by Abercrombie & Fitch is a Citr...     citrus      woody   \n",
       "\n",
       "  3er Acorde  \n",
       "0   aromatic  "
      ]
     },
     "execution_count": 7,
     "metadata": {},
     "output_type": "execute_result"
    }
   ],
   "source": [
    "### LINK !!\n",
    "url = 'https://www.fragrantica.com/perfume/Abercrombie-Fitch/Authentic-Man-54004.html'\n",
    "\n",
    "### SCRAPPER\n",
    "perfume = data.scrap_tool(url)\n",
    "\n",
    "### ITERATE data:\n",
    "# Image: \n",
    "data_perfume['Image'].append(perfume[0])\n",
    "# Description:\n",
    "data_perfume['Description'].append(perfume[1])\n",
    "# Acordes:\n",
    "data_perfume['1er Acorde'].append(perfume[2][0])\n",
    "data_perfume['2do Acorde'].append(perfume[2][1])\n",
    "data_perfume['3er Acorde'].append(perfume[2][2])\n",
    "\n",
    "length = len(data_perfume['Image'])-1\n",
    "\n",
    "new_perfume = {\n",
    "    'Image': data_perfume['Image'][length],\n",
    "    'Description': data_perfume['Description'][length],\n",
    "    '1er Acorde': data_perfume['1er Acorde'][length],\n",
    "    '2do Acorde': data_perfume['2do Acorde'][length],\n",
    "    '3er Acorde': data_perfume['3er Acorde'][length]\n",
    "}\n",
    "new_df = pd.DataFrame(new_perfume, index=[0])\n",
    "## Organizing it and save it locally:\n",
    "df = pd.concat([df, new_df], ignore_index=True)\n",
    "df\n"
   ]
  },
  {
   "cell_type": "code",
   "execution_count": 8,
   "metadata": {},
   "outputs": [],
   "source": [
    "### Check if the PERFUMES column exist already\n",
    "def check_column(obj, data):\n",
    "    if 'Perfumes' in obj.columns:\n",
    "        df_final = obj\n",
    "    else: \n",
    "        df_final = obj.insert(0, 'Perfumes', data)\n",
    "    \n",
    "    return df_final"
   ]
  },
  {
   "cell_type": "code",
   "execution_count": 14,
   "metadata": {},
   "outputs": [
    {
     "data": {
      "text/html": [
       "<div>\n",
       "<style scoped>\n",
       "    .dataframe tbody tr th:only-of-type {\n",
       "        vertical-align: middle;\n",
       "    }\n",
       "\n",
       "    .dataframe tbody tr th {\n",
       "        vertical-align: top;\n",
       "    }\n",
       "\n",
       "    .dataframe thead th {\n",
       "        text-align: right;\n",
       "    }\n",
       "</style>\n",
       "<table border=\"1\" class=\"dataframe\">\n",
       "  <thead>\n",
       "    <tr style=\"text-align: right;\">\n",
       "      <th></th>\n",
       "      <th>Perfumes</th>\n",
       "      <th>Image</th>\n",
       "      <th>Description</th>\n",
       "      <th>1er Acorde</th>\n",
       "      <th>2do Acorde</th>\n",
       "      <th>3er Acorde</th>\n",
       "    </tr>\n",
       "  </thead>\n",
       "  <tbody>\n",
       "    <tr>\n",
       "      <th>0</th>\n",
       "      <td>AB KING 2 PIEZAS EDT 100ML CABALLERO</td>\n",
       "      <td>https://fimgs.net/mdimg/perfume/375x500.54004.jpg</td>\n",
       "      <td>Authentic Man by Abercrombie &amp; Fitch is a Citr...</td>\n",
       "      <td>citrus</td>\n",
       "      <td>woody</td>\n",
       "      <td>aromatic</td>\n",
       "    </tr>\n",
       "  </tbody>\n",
       "</table>\n",
       "</div>"
      ],
      "text/plain": [
       "                               Perfumes  \\\n",
       "0  AB KING 2 PIEZAS EDT 100ML CABALLERO   \n",
       "\n",
       "                                               Image  \\\n",
       "0  https://fimgs.net/mdimg/perfume/375x500.54004.jpg   \n",
       "\n",
       "                                         Description 1er Acorde 2do Acorde  \\\n",
       "0  Authentic Man by Abercrombie & Fitch is a Citr...     citrus      woody   \n",
       "\n",
       "  3er Acorde  \n",
       "0   aromatic  "
      ]
     },
     "execution_count": 14,
     "metadata": {},
     "output_type": "execute_result"
    }
   ],
   "source": [
    "#### NAMES OF PERFUMES\n",
    "# , 'ABERCROMBIE & FITCH AUTHENTIC EDP 100ML DAMA'\n",
    "list_names = ['AB KING 2 PIEZAS EDT 100ML CABALLERO']\n",
    "df_final = check_column(df, list_names)\n",
    "df_final"
   ]
  },
  {
   "cell_type": "code",
   "execution_count": 12,
   "metadata": {},
   "outputs": [],
   "source": [
    "# save it locally:\n",
    "df_final.to_csv(\"perfumes_data.csv\", index=False)"
   ]
  },
  {
   "cell_type": "code",
   "execution_count": 13,
   "metadata": {},
   "outputs": [],
   "source": [
    "## Save it into xlsx\n",
    "df_final.to_excel('test.xlsx')"
   ]
  }
 ],
 "metadata": {
  "kernelspec": {
   "display_name": "base",
   "language": "python",
   "name": "python3"
  },
  "language_info": {
   "codemirror_mode": {
    "name": "ipython",
    "version": 3
   },
   "file_extension": ".py",
   "mimetype": "text/x-python",
   "name": "python",
   "nbconvert_exporter": "python",
   "pygments_lexer": "ipython3",
   "version": "3.11.3"
  },
  "orig_nbformat": 4
 },
 "nbformat": 4,
 "nbformat_minor": 2
}
