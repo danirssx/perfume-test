{
 "cells": [
  {
   "cell_type": "code",
   "execution_count": 1,
   "metadata": {},
   "outputs": [],
   "source": [
    "import pandas as pd\n",
    "import numpy as np\n",
    "from bs4 import BeautifulSoup\n",
    "import requests"
   ]
  },
  {
   "cell_type": "code",
   "execution_count": 2,
   "metadata": {},
   "outputs": [],
   "source": [
    "from scrap import Script"
   ]
  },
  {
   "cell_type": "markdown",
   "metadata": {},
   "source": [
    "## Here I will extract the Perfume "
   ]
  },
  {
   "cell_type": "code",
   "execution_count": 3,
   "metadata": {},
   "outputs": [],
   "source": [
    "data = Script()"
   ]
  },
  {
   "cell_type": "code",
   "execution_count": 4,
   "metadata": {},
   "outputs": [],
   "source": [
    "## Grab the fie of xlsx\n",
    "url_excel = 'MAYOR-160.xlsx'\n",
    "df_excel = data.link_excel(url_excel)"
   ]
  },
  {
   "cell_type": "code",
   "execution_count": 5,
   "metadata": {},
   "outputs": [],
   "source": [
    "data_perfume = {\n",
    "    'Image': [],\n",
    "    'Description': [],\n",
    "    '1er Acorde': [],\n",
    "    '2do Acorde': [],\n",
    "    '3er Acorde': []\n",
    "}"
   ]
  },
  {
   "cell_type": "code",
   "execution_count": 6,
   "metadata": {},
   "outputs": [],
   "source": [
    "#### DataFrame:\n",
    "df = pd.DataFrame(columns=['Image', 'Description', '1er Acorde', '2do Acorde', '3er Acorde'])"
   ]
  },
  {
   "cell_type": "code",
   "execution_count": 7,
   "metadata": {},
   "outputs": [
    {
     "name": "stdout",
     "output_type": "stream",
     "text": [
      "Response: 200\n"
     ]
    },
    {
     "data": {
      "text/html": [
       "<div>\n",
       "<style scoped>\n",
       "    .dataframe tbody tr th:only-of-type {\n",
       "        vertical-align: middle;\n",
       "    }\n",
       "\n",
       "    .dataframe tbody tr th {\n",
       "        vertical-align: top;\n",
       "    }\n",
       "\n",
       "    .dataframe thead th {\n",
       "        text-align: right;\n",
       "    }\n",
       "</style>\n",
       "<table border=\"1\" class=\"dataframe\">\n",
       "  <thead>\n",
       "    <tr style=\"text-align: right;\">\n",
       "      <th></th>\n",
       "      <th>Image</th>\n",
       "      <th>Description</th>\n",
       "      <th>1er Acorde</th>\n",
       "      <th>2do Acorde</th>\n",
       "      <th>3er Acorde</th>\n",
       "    </tr>\n",
       "  </thead>\n",
       "  <tbody>\n",
       "    <tr>\n",
       "      <th>0</th>\n",
       "      <td>https://fraguru.com/mdimg/perfume/375x500.3351...</td>\n",
       "      <td>Baccarat Rouge 540 de Maison Francis Kurkdjian...</td>\n",
       "      <td>amaderado</td>\n",
       "      <td>ámbar</td>\n",
       "      <td>cálido especiado</td>\n",
       "    </tr>\n",
       "  </tbody>\n",
       "</table>\n",
       "</div>"
      ],
      "text/plain": [
       "                                               Image  \\\n",
       "0  https://fraguru.com/mdimg/perfume/375x500.3351...   \n",
       "\n",
       "                                         Description 1er Acorde 2do Acorde  \\\n",
       "0  Baccarat Rouge 540 de Maison Francis Kurkdjian...  amaderado      ámbar   \n",
       "\n",
       "         3er Acorde  \n",
       "0  cálido especiado  "
      ]
     },
     "execution_count": 7,
     "metadata": {},
     "output_type": "execute_result"
    }
   ],
   "source": [
    "### list perfumes\n",
    "perfume = data.scrap_tool('https://www.fragrantica.es/perfume/Maison-Francis-Kurkdjian/Baccarat-Rouge-540-33519.html')\n",
    "\n",
    "### ITERATE data:\n",
    "# Image: \n",
    "data_perfume['Image'].append(perfume[0])\n",
    "# Description:\n",
    "data_perfume['Description'].append(perfume[1])\n",
    "# Acordes:\n",
    "data_perfume['1er Acorde'].append(perfume[2][0])\n",
    "data_perfume['2do Acorde'].append(perfume[2][1])\n",
    "data_perfume['3er Acorde'].append(perfume[2][2])\n",
    "\n",
    "new_perfume = pd.DataFrame(data_perfume, index=[len(data_perfume['Image'])-1])\n",
    "## Organizing it and save it locally:\n",
    "df = pd.concat([df, new_perfume], ignore_index=True)\n",
    "\n",
    "df"
   ]
  },
  {
   "cell_type": "code",
   "execution_count": 9,
   "metadata": {},
   "outputs": [
    {
     "data": {
      "text/html": [
       "<div>\n",
       "<style scoped>\n",
       "    .dataframe tbody tr th:only-of-type {\n",
       "        vertical-align: middle;\n",
       "    }\n",
       "\n",
       "    .dataframe tbody tr th {\n",
       "        vertical-align: top;\n",
       "    }\n",
       "\n",
       "    .dataframe thead th {\n",
       "        text-align: right;\n",
       "    }\n",
       "</style>\n",
       "<table border=\"1\" class=\"dataframe\">\n",
       "  <thead>\n",
       "    <tr style=\"text-align: right;\">\n",
       "      <th></th>\n",
       "      <th>Image</th>\n",
       "      <th>Description</th>\n",
       "      <th>1er Acorde</th>\n",
       "      <th>2do Acorde</th>\n",
       "      <th>3er Acorde</th>\n",
       "    </tr>\n",
       "  </thead>\n",
       "  <tbody>\n",
       "    <tr>\n",
       "      <th>0</th>\n",
       "      <td>https://fraguru.com/mdimg/perfume/375x500.3351...</td>\n",
       "      <td>Baccarat Rouge 540 de Maison Francis Kurkdjian...</td>\n",
       "      <td>amaderado</td>\n",
       "      <td>ámbar</td>\n",
       "      <td>cálido especiado</td>\n",
       "    </tr>\n",
       "  </tbody>\n",
       "</table>\n",
       "</div>"
      ],
      "text/plain": [
       "                                               Image  \\\n",
       "0  https://fraguru.com/mdimg/perfume/375x500.3351...   \n",
       "\n",
       "                                         Description 1er Acorde 2do Acorde  \\\n",
       "0  Baccarat Rouge 540 de Maison Francis Kurkdjian...  amaderado      ámbar   \n",
       "\n",
       "         3er Acorde  \n",
       "0  cálido especiado  "
      ]
     },
     "execution_count": 9,
     "metadata": {},
     "output_type": "execute_result"
    }
   ],
   "source": [
    "# save it locally:\n",
    "df.to_csv(\"perfumes_data.csv\", index=False)\n",
    "df"
   ]
  }
 ],
 "metadata": {
  "kernelspec": {
   "display_name": "base",
   "language": "python",
   "name": "python3"
  },
  "language_info": {
   "codemirror_mode": {
    "name": "ipython",
    "version": 3
   },
   "file_extension": ".py",
   "mimetype": "text/x-python",
   "name": "python",
   "nbconvert_exporter": "python",
   "pygments_lexer": "ipython3",
   "version": "3.11.3"
  },
  "orig_nbformat": 4
 },
 "nbformat": 4,
 "nbformat_minor": 2
}
